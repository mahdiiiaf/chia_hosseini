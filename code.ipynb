{
 "cells": [
  {
   "cell_type": "markdown",
   "id": "e7f43001",
   "metadata": {},
   "source": [
    "<h1 style=\"color:red;font-weight: 900;\">Hosseini Project Source Code</h1>"
   ]
  },
  {
   "cell_type": "markdown",
   "id": "426ea391",
   "metadata": {},
   "source": [
    "<h1 style=\"\">Import libraries</h1>"
   ]
  },
  {
   "cell_type": "code",
   "execution_count": null,
   "id": "303daeb9",
   "metadata": {},
   "outputs": [],
   "source": [
    "import yfinance as yf\n",
    "import pandas as pd\n",
    "import numpy as np\n",
    "import matplotlib.pyplot as plt\n",
    "from sklearn.preprocessing import MinMaxScaler\n",
    "from sklearn.metrics import mean_absolute_error, mean_squared_error, r2_score\n",
    "from tensorflow.keras.models import Sequential\n",
    "from tensorflow.keras.layers import LSTM, Dense, Dropout\n",
    "from scipy.fft import fft\n",
    "import pywt\n",
    "import os"
   ]
  },
  {
   "cell_type": "markdown",
   "id": "9d9a868b",
   "metadata": {},
   "source": [
    "<h1>Data Collection</h1>"
   ]
  },
  {
   "cell_type": "code",
   "execution_count": null,
   "id": "c3c2936d",
   "metadata": {},
   "outputs": [],
   "source": [
    "def fetch_btc_data(start_date='2018-01-01', end_date='2024-12-31'):\n",
    "    btc = yf.download('BTC-USD', start=start_date, end=end_date, interval='1d')\n",
    "    return btc"
   ]
  },
  {
   "cell_type": "markdown",
   "id": "0d906ac3",
   "metadata": {},
   "source": [
    "<h1>Data Preprocessing</h1>"
   ]
  },
  {
   "cell_type": "code",
   "execution_count": null,
   "id": "05ae92e6",
   "metadata": {},
   "outputs": [],
   "source": [
    "def preprocess_data(data):\n",
    "    # Handle missing values\n",
    "    data = data.fillna(method='ffill')\n",
    "    \n",
    "    # Select closing price\n",
    "    prices = data['Close'].values.reshape(-1, 1)\n",
    "    \n",
    "    # Normalize data\n",
    "    scaler = MinMaxScaler()\n",
    "    prices_scaled = scaler.fit_transform(prices)\n",
    "    \n",
    "    # Split data\n",
    "    train_size = int(len(prices_scaled) * 0.7)\n",
    "    val_size = int(len(prices_scaled) * 0.15)\n",
    "    train_data = prices_scaled[:train_size]\n",
    "    val_data = prices_scaled[train_size:train_size + val_size]\n",
    "    test_data = prices_scaled[train_size + val_size:]\n",
    "    \n",
    "    return train_data, val_data, test_data, scaler, prices"
   ]
  },
  {
   "cell_type": "markdown",
   "id": "3bc1a0c2",
   "metadata": {},
   "source": [
    "<h1>Create sequences for LSTM</h1>"
   ]
  },
  {
   "cell_type": "code",
   "execution_count": null,
   "id": "4fb29e87",
   "metadata": {},
   "outputs": [],
   "source": [
    "def create_sequences(data, seq_length=60):\n",
    "    X, y = [], []\n",
    "    for i in range(len(data) - seq_length):\n",
    "        X.append(data[i:i + seq_length])\n",
    "        y.append(data[i + seq_length])\n",
    "    return np.array(X), np.array(y)"
   ]
  },
  {
   "cell_type": "markdown",
   "id": "54b7f86a",
   "metadata": {},
   "source": [
    "<h1>Frequency Analysis (FFT)</h1>"
   ]
  },
  {
   "cell_type": "code",
   "execution_count": null,
   "id": "1e943bd9",
   "metadata": {},
   "outputs": [],
   "source": [
    "def perform_fft(data):\n",
    "    fft_result = fft(data)\n",
    "    frequencies = np.fft.fftfreq(len(fft_result))\n",
    "    return fft_result, frequencies"
   ]
  },
  {
   "cell_type": "markdown",
   "id": "946f75a9",
   "metadata": {},
   "source": [
    "<h1>Aux Functions</h1>"
   ]
  },
  {
   "cell_type": "code",
   "execution_count": null,
   "id": "d2d0013b",
   "metadata": {},
   "outputs": [],
   "source": [
    "# 5. Wavelet Transform\n",
    "def perform_wavelet_transform(data, wavelet='db4', level=4):\n",
    "    coeffs = pywt.wavedec(data, wavelet, level=level)\n",
    "    return coeffs\n",
    "\n",
    "# 6. Build and Train LSTM Model\n",
    "def build_lstm_model(seq_length):\n",
    "    model = Sequential([\n",
    "        LSTM(50, return_sequences=True, input_shape=(seq_length, 1)),\n",
    "        Dropout(0.2),\n",
    "        LSTM(50, return_sequences=False),\n",
    "        Dropout(0.2),\n",
    "        Dense(25),\n",
    "        Dense(1)\n",
    "    ])\n",
    "    model.compile(optimizer='adam', loss='mse')\n",
    "    return model\n",
    "\n",
    "# 7. Evaluate Model\n",
    "def evaluate_model(y_true, y_pred):\n",
    "    mae = mean_absolute_error(y_true, y_pred)\n",
    "    rmse = np.sqrt(mean_squared_error(y_true, y_pred))\n",
    "    r2 = r2_score(y_true, y_pred)\n",
    "    return mae, rmse, r2"
   ]
  },
  {
   "cell_type": "markdown",
   "id": "8801ca97",
   "metadata": {},
   "source": [
    "<h1 style=\"color:yellow;\">Main Function</h1>"
   ]
  },
  {
   "cell_type": "code",
   "execution_count": null,
   "id": "ac3317ce",
   "metadata": {},
   "outputs": [],
   "source": [
    "def main():\n",
    "    # Fetch data\n",
    "    btc_data = fetch_btc_data()\n",
    "    \n",
    "    # Preprocess data\n",
    "    train_data, val_data, test_data, scaler, raw_prices = preprocess_data(btc_data)\n",
    "    \n",
    "    # Create sequences\n",
    "    seq_length = 60\n",
    "    X_train, y_train = create_sequences(train_data, seq_length)\n",
    "    X_val, y_val = create_sequences(val_data, seq_length)\n",
    "    X_test, y_test = create_sequences(test_data, seq_length)\n",
    "    \n",
    "    # Reshape for LSTM\n",
    "    X_train = X_train.reshape((X_train.shape[0], X_train.shape[1], 1))\n",
    "    X_val = X_val.reshape((X_val.shape[0], X_val.shape[1], 1))\n",
    "    X_test = X_test.reshape((X_test.shape[0], X_test.shape[1], 1))\n",
    "    \n",
    "    # Frequency Analysis (FFT)\n",
    "    fft_result, frequencies = perform_fft(raw_prices.flatten())\n",
    "    plt.figure(figsize=(10, 6))\n",
    "    plt.plot(frequencies[:len(frequencies)//2], np.abs(fft_result)[:len(frequencies)//2])\n",
    "    plt.title('FFT Spectrum of BTC Prices')\n",
    "    plt.xlabel('Frequency')\n",
    "    plt.ylabel('Amplitude')\n",
    "    plt.savefig('fft_spectrum.png')\n",
    "    plt.close()\n",
    "    \n",
    "    # Wavelet Transform\n",
    "    coeffs = perform_wavelet_transform(raw_prices.flatten())\n",
    "    plt.figure(figsize=(10, 6))\n",
    "    for i, coeff in enumerate(coeffs):\n",
    "        plt.subplot(len(coeffs), 1, i+1)\n",
    "        plt.plot(coeff)\n",
    "        plt.title(f'Wavelet Coefficient {i}')\n",
    "    plt.tight_layout()\n",
    "    plt.savefig('wavelet_transform.png')\n",
    "    plt.close()\n",
    "    \n",
    "    # Train LSTM\n",
    "    model = build_lstm_model(seq_length)\n",
    "    history = model.fit(X_train, y_train, validation_data=(X_val, y_val), \n",
    "                       epochs=50, batch_size=32, verbose=1)\n",
    "    \n",
    "    # Predict\n",
    "    train_pred = model.predict(X_train)\n",
    "    val_pred = model.predict(X_val)\n",
    "    test_pred = model.predict(X_test)\n",
    "    \n",
    "    # Inverse transform predictions\n",
    "    train_pred = scaler.inverse_transform(train_pred)\n",
    "    val_pred = scaler.inverse_transform(val_pred)\n",
    "    test_pred = scaler.inverse_transform(test_pred)\n",
    "    y_train_inv = scaler.inverse_transform(y_train.reshape(-1, 1))\n",
    "    y_val_inv = scaler.inverse_transform(y_val.reshape(-1, 1))\n",
    "    y_test_inv = scaler.inverse_transform(y_test.reshape(-1, 1))\n",
    "    \n",
    "    # Evaluate\n",
    "    train_mae, train_rmse, train_r2 = evaluate_model(y_train_inv, train_pred)\n",
    "    val_mae, val_rmse, val_r2 = evaluate_model(y_val_inv, val_pred)\n",
    "    test_mae, test_rmse, test_r2 = evaluate_model(y_test_inv, test_pred)\n",
    "    \n",
    "    print(f\"Train MAE: {train_mae:.4f}, RMSE: {train_rmse:.4f}, R2: {train_r2:.4f}\")\n",
    "    print(f\"Val MAE: {val_mae:.4f}, RMSE: {val_rmse:.4f}, R2: {val_r2:.4f}\")\n",
    "    print(f\"Test MAE: {test_mae:.4f}, RMSE: {test_rmse:.4f}, R2: {test_r2:.4f}\")\n",
    "    \n",
    "    # Plot predictions\n",
    "    plt.figure(figsize=(12, 6))\n",
    "    plt.plot(y_test_inv, label='Actual Prices')\n",
    "    plt.plot(test_pred, label='Predicted Prices')\n",
    "    plt.title('LSTM Predictions vs Actual BTC Prices')\n",
    "    plt.xlabel('Time')\n",
    "    plt.ylabel('Price (USD)')\n",
    "    plt.legend()\n",
    "    plt.savefig('lstm_predictions.png')\n",
    "    plt.close()\n",
    "    \n",
    "    # Plot raw prices\n",
    "    plt.figure(figsize=(12, 6))\n",
    "    plt.plot(btc_data.index, raw_prices, label='BTC Price')\n",
    "    plt.title('BTC Daily Prices (2018-2024)')\n",
    "    plt.xlabel('Date')\n",
    "    plt.ylabel('Price (USD)')\n",
    "    plt.legend()\n",
    "    plt.savefig('btc_price_plot.png')\n",
    "    plt.close()"
   ]
  },
  {
   "cell_type": "markdown",
   "id": "178e0afa",
   "metadata": {},
   "source": []
  }
 ],
 "metadata": {
  "language_info": {
   "name": "python"
  }
 },
 "nbformat": 4,
 "nbformat_minor": 5
}
